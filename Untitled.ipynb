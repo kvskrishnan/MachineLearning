{
 "cells": [
  {
   "cell_type": "code",
   "execution_count": 4,
   "metadata": {},
   "outputs": [],
   "source": [
    "import numpy as np\n",
    "import pandas as pd"
   ]
  },
  {
   "cell_type": "code",
   "execution_count": 8,
   "metadata": {},
   "outputs": [
    {
     "name": "stderr",
     "output_type": "stream",
     "text": [
      "C:\\Users\\65965\\Anaconda3\\lib\\site-packages\\IPython\\core\\interactiveshell.py:3020: DtypeWarning: Columns (1) have mixed types. Specify dtype option on import or set low_memory=False.\n",
      "  interactivity=interactivity, compiler=compiler, result=result)\n"
     ]
    }
   ],
   "source": [
    "dfOrders=pd.read_csv('orders.csv')\n",
    "dfDevices=pd.read_csv('devices.csv')\n",
    "dfBanks=pd.read_csv('bank_accounts.csv')\n",
    "dfCC=pd.read_csv('credit_cards.csv')"
   ]
  },
  {
   "cell_type": "code",
   "execution_count": 9,
   "metadata": {},
   "outputs": [
    {
     "data": {
      "text/html": [
       "<div>\n",
       "<style scoped>\n",
       "    .dataframe tbody tr th:only-of-type {\n",
       "        vertical-align: middle;\n",
       "    }\n",
       "\n",
       "    .dataframe tbody tr th {\n",
       "        vertical-align: top;\n",
       "    }\n",
       "\n",
       "    .dataframe thead th {\n",
       "        text-align: right;\n",
       "    }\n",
       "</style>\n",
       "<table border=\"1\" class=\"dataframe\">\n",
       "  <thead>\n",
       "    <tr style=\"text-align: right;\">\n",
       "      <th></th>\n",
       "      <th>orderid</th>\n",
       "      <th>buyer_userid</th>\n",
       "      <th>seller_userid</th>\n",
       "    </tr>\n",
       "  </thead>\n",
       "  <tbody>\n",
       "    <tr>\n",
       "      <th>0</th>\n",
       "      <td>1953278092</td>\n",
       "      <td>47388162</td>\n",
       "      <td>20822974</td>\n",
       "    </tr>\n",
       "    <tr>\n",
       "      <th>1</th>\n",
       "      <td>1953295120</td>\n",
       "      <td>26855196</td>\n",
       "      <td>16416890</td>\n",
       "    </tr>\n",
       "    <tr>\n",
       "      <th>2</th>\n",
       "      <td>1953306402</td>\n",
       "      <td>121296714</td>\n",
       "      <td>28477978</td>\n",
       "    </tr>\n",
       "    <tr>\n",
       "      <th>3</th>\n",
       "      <td>1953314712</td>\n",
       "      <td>131221930</td>\n",
       "      <td>72837912</td>\n",
       "    </tr>\n",
       "    <tr>\n",
       "      <th>4</th>\n",
       "      <td>1953381964</td>\n",
       "      <td>183398314</td>\n",
       "      <td>28423332</td>\n",
       "    </tr>\n",
       "  </tbody>\n",
       "</table>\n",
       "</div>"
      ],
      "text/plain": [
       "      orderid  buyer_userid  seller_userid\n",
       "0  1953278092      47388162       20822974\n",
       "1  1953295120      26855196       16416890\n",
       "2  1953306402     121296714       28477978\n",
       "3  1953314712     131221930       72837912\n",
       "4  1953381964     183398314       28423332"
      ]
     },
     "execution_count": 9,
     "metadata": {},
     "output_type": "execute_result"
    }
   ],
   "source": [
    "dfOrders.head()"
   ]
  },
  {
   "cell_type": "code",
   "execution_count": 10,
   "metadata": {},
   "outputs": [
    {
     "data": {
      "text/html": [
       "<div>\n",
       "<style scoped>\n",
       "    .dataframe tbody tr th:only-of-type {\n",
       "        vertical-align: middle;\n",
       "    }\n",
       "\n",
       "    .dataframe tbody tr th {\n",
       "        vertical-align: top;\n",
       "    }\n",
       "\n",
       "    .dataframe thead th {\n",
       "        text-align: right;\n",
       "    }\n",
       "</style>\n",
       "<table border=\"1\" class=\"dataframe\">\n",
       "  <thead>\n",
       "    <tr style=\"text-align: right;\">\n",
       "      <th></th>\n",
       "      <th>userid</th>\n",
       "      <th>device</th>\n",
       "    </tr>\n",
       "  </thead>\n",
       "  <tbody>\n",
       "    <tr>\n",
       "      <th>0</th>\n",
       "      <td>10499978</td>\n",
       "      <td>0Zu/mWZ4cFsvobYglgZEc5VSxwwajRwrm74pBuwnrTu=</td>\n",
       "    </tr>\n",
       "    <tr>\n",
       "      <th>1</th>\n",
       "      <td>54526742</td>\n",
       "      <td>zBMRKyz98iy5Z7sh+JIOdF612J1CB8ggvFBI6MP361q=</td>\n",
       "    </tr>\n",
       "    <tr>\n",
       "      <th>2</th>\n",
       "      <td>33152428</td>\n",
       "      <td>KXC0oY3MMrTG+bnlFFvBPXZC5PW8iw6kgWztENWdIJg=</td>\n",
       "    </tr>\n",
       "    <tr>\n",
       "      <th>3</th>\n",
       "      <td>55020986</td>\n",
       "      <td>anRXS7+zVgCGKz5C9X3dzewIhSdojGEi5TO07pb2y+K=</td>\n",
       "    </tr>\n",
       "    <tr>\n",
       "      <th>4</th>\n",
       "      <td>100471502</td>\n",
       "      <td>hbIARr+USwvjjzc8QUVtD5a/apR1DJX6P3fYvgDL4gW=</td>\n",
       "    </tr>\n",
       "  </tbody>\n",
       "</table>\n",
       "</div>"
      ],
      "text/plain": [
       "      userid                                        device\n",
       "0   10499978  0Zu/mWZ4cFsvobYglgZEc5VSxwwajRwrm74pBuwnrTu=\n",
       "1   54526742  zBMRKyz98iy5Z7sh+JIOdF612J1CB8ggvFBI6MP361q=\n",
       "2   33152428  KXC0oY3MMrTG+bnlFFvBPXZC5PW8iw6kgWztENWdIJg=\n",
       "3   55020986  anRXS7+zVgCGKz5C9X3dzewIhSdojGEi5TO07pb2y+K=\n",
       "4  100471502  hbIARr+USwvjjzc8QUVtD5a/apR1DJX6P3fYvgDL4gW="
      ]
     },
     "execution_count": 10,
     "metadata": {},
     "output_type": "execute_result"
    }
   ],
   "source": [
    "dfDevices.head()"
   ]
  },
  {
   "cell_type": "code",
   "execution_count": 17,
   "metadata": {},
   "outputs": [
    {
     "data": {
      "text/html": [
       "<div>\n",
       "<style scoped>\n",
       "    .dataframe tbody tr th:only-of-type {\n",
       "        vertical-align: middle;\n",
       "    }\n",
       "\n",
       "    .dataframe tbody tr th {\n",
       "        vertical-align: top;\n",
       "    }\n",
       "\n",
       "    .dataframe thead th {\n",
       "        text-align: right;\n",
       "    }\n",
       "</style>\n",
       "<table border=\"1\" class=\"dataframe\">\n",
       "  <thead>\n",
       "    <tr style=\"text-align: right;\">\n",
       "      <th></th>\n",
       "      <th>userid</th>\n",
       "      <th>device</th>\n",
       "    </tr>\n",
       "  </thead>\n",
       "  <tbody>\n",
       "    <tr>\n",
       "      <th>5261</th>\n",
       "      <td>47388162</td>\n",
       "      <td>N6EVAPjl6WH2r1LOkkuwR0zKxT3fU8tubs3qvysuKTy=</td>\n",
       "    </tr>\n",
       "    <tr>\n",
       "      <th>72418</th>\n",
       "      <td>47388162</td>\n",
       "      <td>NUDUHm6TKnxRN2Q+D7Wr2AAR5IyNabr1t3tobdD8uyq=</td>\n",
       "    </tr>\n",
       "    <tr>\n",
       "      <th>98288</th>\n",
       "      <td>47388162</td>\n",
       "      <td>HJ5XUYvJpjF6xE1QlTAy0RQgXY1GZDskcoLSliOMNag=</td>\n",
       "    </tr>\n",
       "    <tr>\n",
       "      <th>180180</th>\n",
       "      <td>47388162</td>\n",
       "      <td>5YKQkZDv4zi4RICd0AIVAS3Iv+awDbNxl49p51QF7fA=</td>\n",
       "    </tr>\n",
       "    <tr>\n",
       "      <th>241375</th>\n",
       "      <td>47388162</td>\n",
       "      <td>HQgnByUSw54FHZwYDGgwCheMM72dnyBqqF7lDih1iMW=</td>\n",
       "    </tr>\n",
       "  </tbody>\n",
       "</table>\n",
       "</div>"
      ],
      "text/plain": [
       "          userid                                        device\n",
       "5261    47388162  N6EVAPjl6WH2r1LOkkuwR0zKxT3fU8tubs3qvysuKTy=\n",
       "72418   47388162  NUDUHm6TKnxRN2Q+D7Wr2AAR5IyNabr1t3tobdD8uyq=\n",
       "98288   47388162  HJ5XUYvJpjF6xE1QlTAy0RQgXY1GZDskcoLSliOMNag=\n",
       "180180  47388162  5YKQkZDv4zi4RICd0AIVAS3Iv+awDbNxl49p51QF7fA=\n",
       "241375  47388162  HQgnByUSw54FHZwYDGgwCheMM72dnyBqqF7lDih1iMW="
      ]
     },
     "execution_count": 17,
     "metadata": {},
     "output_type": "execute_result"
    }
   ],
   "source": [
    "dfDevices[dfDevices['userid']==47388162].head()"
   ]
  },
  {
   "cell_type": "code",
   "execution_count": 83,
   "metadata": {},
   "outputs": [],
   "source": [
    "def FindDirectLink(buyerid,sellerid):\n",
    "    buyerDeviceId=list(dfDevices[dfDevices['userid']==buyerid]['device'].head(1))[0]\n",
    "    sellerDeviceId=list(dfDevices[dfDevices['userid']==sellerid]['device'].head(1))[0]\n",
    "    print(sellerDeviceId)\n",
    "    #if(buyerDeviceId==sellerDeviceId):\n",
    "        #return 1"
   ]
  },
  {
   "cell_type": "code",
   "execution_count": 82,
   "metadata": {},
   "outputs": [
    {
     "data": {
      "text/plain": [
       "'N6EVAPjl6WH2r1LOkkuwR0zKxT3fU8tubs3qvysuKTy='"
      ]
     },
     "execution_count": 82,
     "metadata": {},
     "output_type": "execute_result"
    }
   ],
   "source": [
    "list(dfDevices[dfDevices['userid']==47388162]['device'].head(1))[0]"
   ]
  },
  {
   "cell_type": "code",
   "execution_count": 84,
   "metadata": {},
   "outputs": [
    {
     "name": "stdout",
     "output_type": "stream",
     "text": [
      "VYTZXmDy0XH4A0PmT+LOTbHqDBZHIcAh2wqvim+EJ7c=\n",
      "BajlDsaEWUfKvgMloLeTCDVsdd7etgwHxcyh7XFpDT4=\n",
      "7AfVZg0S327Vw+NW9sxpBPftrErmiNUKbLKvMbqN9jc=\n",
      "bX/oi4reAfVi04SVO+M7w5k7h9p+5X/GxsgZK1I8p2q=\n",
      "h61MYG4Lz/IvRjndzdBl85eCEdx/bTY9sZIztV09cAS=\n"
     ]
    },
    {
     "data": {
      "text/plain": [
       "0    None\n",
       "1    None\n",
       "2    None\n",
       "3    None\n",
       "4    None\n",
       "dtype: object"
      ]
     },
     "execution_count": 84,
     "metadata": {},
     "output_type": "execute_result"
    }
   ],
   "source": [
    "dfOrders_copy.head().apply(lambda x: FindDirectLink(x['buyer_userid'],x['seller_userid']),axis=1)"
   ]
  },
  {
   "cell_type": "code",
   "execution_count": 20,
   "metadata": {},
   "outputs": [
    {
     "data": {
      "text/html": [
       "<div>\n",
       "<style scoped>\n",
       "    .dataframe tbody tr th:only-of-type {\n",
       "        vertical-align: middle;\n",
       "    }\n",
       "\n",
       "    .dataframe tbody tr th {\n",
       "        vertical-align: top;\n",
       "    }\n",
       "\n",
       "    .dataframe thead th {\n",
       "        text-align: right;\n",
       "    }\n",
       "</style>\n",
       "<table border=\"1\" class=\"dataframe\">\n",
       "  <thead>\n",
       "    <tr style=\"text-align: right;\">\n",
       "      <th></th>\n",
       "      <th>orderid</th>\n",
       "      <th>buyer_userid</th>\n",
       "      <th>seller_userid</th>\n",
       "      <th>userid</th>\n",
       "      <th>device</th>\n",
       "    </tr>\n",
       "  </thead>\n",
       "  <tbody>\n",
       "    <tr>\n",
       "      <th>0</th>\n",
       "      <td>1953278092</td>\n",
       "      <td>47388162</td>\n",
       "      <td>20822974</td>\n",
       "      <td>47388162</td>\n",
       "      <td>N6EVAPjl6WH2r1LOkkuwR0zKxT3fU8tubs3qvysuKTy=</td>\n",
       "    </tr>\n",
       "    <tr>\n",
       "      <th>1</th>\n",
       "      <td>1953278092</td>\n",
       "      <td>47388162</td>\n",
       "      <td>20822974</td>\n",
       "      <td>47388162</td>\n",
       "      <td>NUDUHm6TKnxRN2Q+D7Wr2AAR5IyNabr1t3tobdD8uyq=</td>\n",
       "    </tr>\n",
       "    <tr>\n",
       "      <th>2</th>\n",
       "      <td>1953278092</td>\n",
       "      <td>47388162</td>\n",
       "      <td>20822974</td>\n",
       "      <td>47388162</td>\n",
       "      <td>HJ5XUYvJpjF6xE1QlTAy0RQgXY1GZDskcoLSliOMNag=</td>\n",
       "    </tr>\n",
       "    <tr>\n",
       "      <th>3</th>\n",
       "      <td>1953278092</td>\n",
       "      <td>47388162</td>\n",
       "      <td>20822974</td>\n",
       "      <td>47388162</td>\n",
       "      <td>5YKQkZDv4zi4RICd0AIVAS3Iv+awDbNxl49p51QF7fA=</td>\n",
       "    </tr>\n",
       "    <tr>\n",
       "      <th>4</th>\n",
       "      <td>1953278092</td>\n",
       "      <td>47388162</td>\n",
       "      <td>20822974</td>\n",
       "      <td>47388162</td>\n",
       "      <td>HQgnByUSw54FHZwYDGgwCheMM72dnyBqqF7lDih1iMW=</td>\n",
       "    </tr>\n",
       "  </tbody>\n",
       "</table>\n",
       "</div>"
      ],
      "text/plain": [
       "      orderid  buyer_userid  seller_userid    userid  \\\n",
       "0  1953278092      47388162       20822974  47388162   \n",
       "1  1953278092      47388162       20822974  47388162   \n",
       "2  1953278092      47388162       20822974  47388162   \n",
       "3  1953278092      47388162       20822974  47388162   \n",
       "4  1953278092      47388162       20822974  47388162   \n",
       "\n",
       "                                         device  \n",
       "0  N6EVAPjl6WH2r1LOkkuwR0zKxT3fU8tubs3qvysuKTy=  \n",
       "1  NUDUHm6TKnxRN2Q+D7Wr2AAR5IyNabr1t3tobdD8uyq=  \n",
       "2  HJ5XUYvJpjF6xE1QlTAy0RQgXY1GZDskcoLSliOMNag=  \n",
       "3  5YKQkZDv4zi4RICd0AIVAS3Iv+awDbNxl49p51QF7fA=  \n",
       "4  HQgnByUSw54FHZwYDGgwCheMM72dnyBqqF7lDih1iMW=  "
      ]
     },
     "execution_count": 20,
     "metadata": {},
     "output_type": "execute_result"
    }
   ],
   "source": [
    "result = pd.merge(dfOrders,\n",
    "                 dfDevices,\n",
    "                 left_on='buyer_userid',right_on='userid')\n",
    "result.head()"
   ]
  },
  {
   "cell_type": "code",
   "execution_count": 22,
   "metadata": {},
   "outputs": [
    {
     "data": {
      "text/plain": [
       "(1708281, 5)"
      ]
     },
     "execution_count": 22,
     "metadata": {},
     "output_type": "execute_result"
    }
   ],
   "source": [
    "result.shape"
   ]
  },
  {
   "cell_type": "code",
   "execution_count": null,
   "metadata": {},
   "outputs": [],
   "source": []
  }
 ],
 "metadata": {
  "kernelspec": {
   "display_name": "Python 3",
   "language": "python",
   "name": "python3"
  },
  "language_info": {
   "codemirror_mode": {
    "name": "ipython",
    "version": 3
   },
   "file_extension": ".py",
   "mimetype": "text/x-python",
   "name": "python",
   "nbconvert_exporter": "python",
   "pygments_lexer": "ipython3",
   "version": "3.7.1"
  }
 },
 "nbformat": 4,
 "nbformat_minor": 2
}
